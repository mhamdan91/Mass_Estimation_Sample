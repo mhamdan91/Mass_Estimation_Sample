{
 "cells": [
  {
   "cell_type": "code",
   "execution_count": 1,
   "metadata": {
    "collapsed": true
   },
   "outputs": [
    {
     "name": "stdout",
     "output_type": "stream",
     "text": [
      "\nWARNING: The TensorFlow contrib module will not be included in TensorFlow 2.0.\nFor more information, please see:\n  * https://github.com/tensorflow/community/blob/master/rfcs/20180907-contrib-sunset.md\n  * https://github.com/tensorflow/addons\nIf you depend on functionality not listed there, please file an issue.\n"
     ]
    },
    {
     "name": "stdout",
     "output_type": "stream",
     "text": [
      "\n"
     ]
    },
    {
     "name": "stdout",
     "output_type": "stream",
     "text": [
      "1.13.1"
     ]
    },
    {
     "name": "stdout",
     "output_type": "stream",
     "text": [
      "\n"
     ]
    }
   ],
   "source": [
    "from __future__ import absolute_import, division, print_function\n",
    "from tqdm import tqdm    \n",
    "import warnings\n",
    "from termcolor import colored\n",
    "import tensorflow as tf\n",
    "import os                   # work with directories\n",
    "import numpy as np          # dealing with arrays\n",
    "import matplotlib.pyplot as plt\n",
    "import time\n",
    "\n",
    "tfe = tf.contrib.eager\n",
    "import pickle as pk\n",
    "import sys\n",
    "\n",
    "from tensorflow.python.client import device_lib\n",
    "from tensorflow.python.eager import tape\n",
    "import platform\n",
    "\n",
    "\n",
    "\n",
    "config = tf.ConfigProto()\n",
    "config.gpu_options.allow_growth = True\n",
    "layers = tf.keras.layers\n",
    "tf.enable_eager_execution(config=config)\n",
    "tf.executing_eagerly()\n",
    "print(tf.__version__)\n",
    "\n",
    "warnings.filterwarnings('ignore')\n",
    "tf.logging.set_verbosity(tf.logging.ERROR)\n",
    "\n",
    "machine_type = platform.uname()[0]\n",
    "\n",
    "if machine_type == 'Linux':\n",
    "    path_sep = '/'\n",
    "else:\n",
    "    path_sep = '\\win'\n",
    "path_sep = path_sep[0]\n",
    "MAIN_dir = os.getcwd()+path_sep\n",
    "checkpoint_path = MAIN_dir + 'checkpoints'+path_sep\n",
    "data_files_path = MAIN_dir + 'data_files'+path_sep\n",
    "mean_path = data_files_path + 'std_mean_60_dataset.npy'\n",
    "dataset_path = MAIN_dir + 'dataset'+path_sep\n",
    "tensorboard_path = MAIN_dir + 'tensorboard'+path_sep\n"
   ]
  },
  {
   "cell_type": "code",
   "execution_count": 2,
   "metadata": {},
   "outputs": [],
   "source": [
    "\n",
    "filename = 'sample_set.pickle'\n",
    "pickle_in_sample = open(data_files_path + filename, \"rb\")\n",
    "sample_data = pk.load(pickle_in_sample)\n",
    "pickle_in_sample.close()\n",
    "\n",
    "images_s = sample_data['images']\n",
    "labels_s = sample_data['labels']\n",
    "speeds_s = sample_data['speeds']\n",
    "log_length_s = sample_data['log_length']\n"
   ]
  },
  {
   "cell_type": "code",
   "execution_count": 3,
   "metadata": {},
   "outputs": [],
   "source": [
    "# Sample og length is 511 , so make sure batch_size is less or equal to that and whatever you can fit in vRAM\n",
    "Batch_size = 8\n",
    "Buffer_size = 8\n",
    "Epochs = 100\n",
    "\n",
    "sample_dataset = tf.data.Dataset.from_tensor_slices((images_s, labels_s, speeds_s, log_length_s))\n",
    "sample_dataset = sample_dataset.batch(Batch_size)\n",
    "sample_dataset = sample_dataset.prefetch(Batch_size)\n"
   ]
  },
  {
   "cell_type": "code",
   "execution_count": 4,
   "metadata": {},
   "outputs": [],
   "source": [
    "# LOAD RES-9ER - default --- for deployment change to current working directory\n",
    "\n",
    "Network_size = None # Set to default RES-9ER\n",
    "data_format = 'channels_last'\n",
    "if Network_size == 16:\n",
    "    from models import RES_16E as Res\n",
    "elif Network_size == 9:\n",
    "    from models import RES_9E as Res\n",
    "else:\n",
    "    from models import RES_9ER as Res\n",
    "    \n",
    "    \n",
    "# Instantiate the model and configure tensorbaord and checkpoints\n",
    "\n",
    "model = Res.Res9ER(data_format=data_format, include_top=True, pooling=None, classes=1)\n",
    "optimizer = tf.train.AdamOptimizer()\n",
    "accuracy = 0 \n",
    "acc_prediction = tf.constant(0, dtype=\"float32\")\n",
    "t = tf.constant(1/7.5, dtype=\"float32\")\n",
    "loss = tf.constant(0, dtype=\"float32\")\n",
    "logdir = tensorboard_path\n",
    "loc_checkpoint_path = checkpoint_path+'generated_checkpoints/'+\"cp-{log:06d}.ckpt\"\n",
    "checkpoint_dir = os.path.dirname(loc_checkpoint_path)\n",
    "summary_writer = tf.contrib.summary.create_file_writer(logdir)\n"
   ]
  },
  {
   "cell_type": "code",
   "execution_count": 5,
   "metadata": {},
   "outputs": [
    {
     "data": {
      "text/plain": [
       "<tensorflow.python.training.checkpointable.util.CheckpointLoadStatus at 0x206ec8398d0>"
      ]
     },
     "execution_count": 5,
     "metadata": {},
     "output_type": "execute_result"
    }
   ],
   "source": [
    "# LOAD checkpoint if you wish to test results\n",
    "checkpoint_name = 'RES_9ER'\n",
    "model.load_weights(checkpoint_path+checkpoint_name)"
   ]
  },
  {
   "cell_type": "code",
   "execution_count": 6,
   "metadata": {},
   "outputs": [],
   "source": [
    "def compute_loss(prediction, label, train_log_length_, operation='L2'):\n",
    "    if operation == 'L2':\n",
    "        return tf.divide(tf.squared_difference(prediction, label), train_log_length_)\n",
    "    elif operation == 'Subtraction':\n",
    "        return tf.divide(tf.subtract(prediction, label), train_log_length_)\n",
    "    elif operation == 'L1':\n",
    "        return tf.divide(tf.abs(tf.subtract(prediction, label)), train_log_length_)\n",
    "    else:\n",
    "        raise ValueError('Please specify loss function (L2, L1, Subtraction)')\n",
    "\n",
    "\n",
    "def print_progress(count, total, cnt, overall, time_, count_log, loss, loss_):\n",
    "    percent_complete = float(count) / total\n",
    "    overall_complete = float(cnt) / (overall-1)\n",
    "\n",
    "    sec = time_ % 60\n",
    "    mint = int(time_/60) % 60\n",
    "    hr = int(time_/3600) % 60\n",
    "    loss = str(loss)\n",
    "    loss_ = str(loss_)\n",
    "    msg = \"\\r Time_lapsed (hr:mm:ss) --> {0:02d}:{1:02d}:{2:02d} ,   loss: {3:s}   Log Progress: {4:.1%},     Overall Progress:{5:.1%},\" \\\n",
    "        \" completed {6:d} out of 185 logs <--> Initial loss: {7:s} \".format(hr, mint, sec, loss, percent_complete, overall_complete, count_log, loss_)\n",
    "    sys.stdout.write(msg)\n",
    "    sys.stdout.flush()\n",
    "    \n",
    "\n",
    "def validation_progress(log_cnt, num_logs, time_, loss, accuracy_loc):\n",
    "    log_cnt += 1\n",
    "    overall_complete = float(log_cnt) / num_logs\n",
    "    sec = int(time_) % 60\n",
    "    mint = int(time_/60) % 60\n",
    "    hr = int(time_/3600) % 60\n",
    "    loss = str(loss)\n",
    "    msg = \"\\r Validation_Time (hr:mm:ss) --> {0:02d}:{1:02d}:{2:02d} ,   Avg_loss: {3:s}   Avg_accuracy: {4:.2%}   Overall Progress:{5:.1%},\" \\\n",
    "        \" completed {6:d} out of {7:d} logs\".format(hr, mint, sec, loss, accuracy_loc, overall_complete, log_cnt, num_logs)\n",
    "    sys.stdout.write(colored(msg, 'green'))\n",
    "    sys.stdout.flush()\n",
    "\n",
    "\n",
    "def write_summaries(loss, i, global_step, vars_loc, grads_loc, train=True):\n",
    "    with summary_writer.as_default():\n",
    "        with tf.contrib.summary.always_record_summaries():\n",
    "            if train:\n",
    "                tf.contrib.summary.scalar(\"train_loss\", loss, step=global_step)\n",
    "                tf.contrib.summary.scalar(\"step\", i, step=global_step)\n",
    "                #  do not add spaces after names\n",
    "                tf.contrib.summary.histogram(\"weights\", vars_loc, step=global_step)\n",
    "                tf.contrib.summary.histogram(\"gradients\", grads_loc, step=global_step)\n",
    "            else:\n",
    "                tf.contrib.summary.scalar(\"val_loss\", loss, step=global_step)\n",
    "                \n",
    "\n",
    "\n"
   ]
  },
  {
   "cell_type": "code",
   "execution_count": 7,
   "metadata": {},
   "outputs": [],
   "source": [
    "# VALIDATION CODE\n",
    "\n",
    "def validate_model(model_loc, val_step_, n_logs, data_set, write_summary=True, return_losses=True):\n",
    "    logs_N = n_logs\n",
    "    start = time.time()\n",
    "    MAE = []\n",
    "    MSE = []\n",
    "    MSBE = []\n",
    "    log_order = []\n",
    "    Accuracy = []\n",
    "    metric_mse = []\n",
    "    summed_volume = 0\n",
    "    remainder = 0\n",
    "    iterations = 0\n",
    "    fixed_size = 0\n",
    "    count = 0\n",
    "    new_log = True\n",
    "    cnt_log = -1\n",
    "    signal = []\n",
    "    signals = [] \n",
    "    for (batch, (image, label, speed, lengths)) in (enumerate(data_set)):\n",
    "        size = np.shape(label)[0]\n",
    "        labels = tf.reshape(label, [size, 1])\n",
    "        speeds = tf.reshape(speed, [size, 1])\n",
    "        log_length = tf.squeeze(lengths)\n",
    "        images = tf.squeeze(image)\n",
    "        batch += 1\n",
    "        if new_log:           \n",
    "            new_log = False\n",
    "            length = int(log_length[0].numpy() - fixed_size + remainder)\n",
    "            iterations = int(np.floor(length/Batch_size))\n",
    "            remainder = int(np.mod(length, Batch_size))\n",
    "            fixed_size = np.shape(speeds)[0]\n",
    "            cnt_log += 1\n",
    "\n",
    "        if count < iterations:\n",
    "            mass_pred = model_loc(images)\n",
    "            volume = (mass_pred * speeds) * t\n",
    "            summed_volume += tf.reduce_sum(volume)\n",
    "            mass = np.abs(summed_volume.numpy())\n",
    "            count = count + 1\n",
    "            signal.append(volume)\n",
    "            # Compute loss\n",
    "            if count == iterations and remainder == 0:\n",
    "                loss_unsigned = np.squeeze(compute_loss(summed_volume, labels[0], log_length[0], operation='L2').numpy())\n",
    "                loss_outlier = np.squeeze(compute_loss(summed_volume, labels[0], log_length[0], operation='L1').numpy())\n",
    "                loss_signed = np.squeeze(compute_loss(summed_volume, labels[0], log_length[0], operation='Subtraction').numpy())\n",
    "                MSE.append(loss_unsigned)\n",
    "                MAE.append(loss_outlier)\n",
    "                MSBE.append(loss_signed)\n",
    "                signals.append(signal[0:len(signal)])\n",
    "                signal.clear()\n",
    "        \n",
    "                gt = np.squeeze(labels[0].numpy())\n",
    "                metric_mse.append(loss_unsigned)\n",
    "                \n",
    "                tmp = np.abs(gt - mass)\n",
    "                tmp = tmp / gt\n",
    "                log_acc = 1 - np.squeeze(tmp)\n",
    "                    \n",
    "                Accuracy.append(log_acc)\n",
    "                log_order.append(np.squeeze(log_length[0].numpy()))\n",
    "                time_ = time.time() - start\n",
    "                validation_progress(cnt_log, logs_N, time_, np.mean(metric_mse), np.mean(Accuracy))\n",
    "                if write_summary:\n",
    "                    write_summaries(np.mean(MSE), 0, val_step_, 0, 0, train=False)\n",
    "                val_step_ += 1\n",
    "                # Reset\n",
    "                summed_volume = 0\n",
    "                count = 0\n",
    "                fixed_size = 0\n",
    "                new_log = True\n",
    "        # Handle the remainder from iterations\n",
    "        else:\n",
    "            # Compute and Aggregate the remainder Gradients\n",
    "            mass_pred = model(images[0:remainder])\n",
    "            volume = (mass_pred * speeds[0:remainder]) * t\n",
    "            summed_volume += tf.reduce_sum(volume)\n",
    "            mass = np.abs(summed_volume.numpy())\n",
    "            signal.append(volume)\n",
    "            \n",
    "            loss_unsigned = np.squeeze(compute_loss(summed_volume, labels[0], log_length[0], operation='L2').numpy())\n",
    "            loss_outlier = np.squeeze(compute_loss(summed_volume, labels[0], log_length[0], operation='L1').numpy())\n",
    "            loss_signed = np.squeeze(compute_loss(summed_volume, labels[0], log_length[0], operation='Subtraction').numpy())\n",
    "            MSE.append(loss_unsigned)\n",
    "            MAE.append(loss_outlier)\n",
    "            MSBE.append(loss_signed)\n",
    "            signals.append(signal[0:len(signal)])\n",
    "            signal.clear()\n",
    "            \n",
    "            gt = np.squeeze(labels[0].numpy())\n",
    "            metric_mse.append(loss_unsigned)\n",
    "\n",
    "            tmp = np.abs(gt - mass)\n",
    "            tmp = tmp / gt\n",
    "            log_acc = 1 - np.squeeze(tmp)\n",
    "            \n",
    "            Accuracy.append(log_acc)\n",
    "            log_order.append(np.squeeze(log_length[0].numpy()))\n",
    "            time_ = time.time() - start\n",
    "            validation_progress(cnt_log, logs_N, time_, np.mean(metric_mse), np.mean(Accuracy))  \n",
    "            \n",
    "            if write_summary:  \n",
    "                write_summaries(np.mean(MSE), 0, val_step_, 0, 0, train=False)\n",
    "            val_step_ += 1\n",
    "            summed_volume = 0\n",
    "            count = 0\n",
    "            new_log = True\n",
    "            \n",
    "            # Handle gradients for the next log\n",
    "            if cnt_log != logs_N-1:    \n",
    "                mass_pred = model(images[remainder:])\n",
    "                volume = (mass_pred * speeds[remainder:]) * t\n",
    "                summed_volume += tf.reduce_sum(volume)\n",
    "                signal.append(volume)\n",
    "                \n",
    "    if return_losses:\n",
    "        return MSE, MAE, MSBE, Accuracy, val_step_\n",
    "    else: \n",
    "        return signals"
   ]
  },
  {
   "cell_type": "code",
   "execution_count": 8,
   "metadata": {},
   "outputs": [
    {
     "name": "stdout",
     "output_type": "stream",
     "text": [
      "\r Time_lapsed (hr:mm:ss) --> 00:00:23 Epoch: 1, Log: 1, Log_progress: 100.0% - Overall_progress: 1.0%, Length: 511.0 Label:[640.], loss: 0.341, train RMSE: 0.58"
     ]
    },
    {
     "name": "stdout",
     "output_type": "stream",
     "text": [
      "\n"
     ]
    },
    {
     "name": "stdout",
     "output_type": "stream",
     "text": [
      "\r Validation_Time (hr:mm:ss) --> 00:00:04 ,   Avg_loss: 0.75073516   Avg_accuracy: 96.94%   Overall Progress:100.0%, completed 1 out of 1 logs"
     ]
    },
    {
     "name": "stdout",
     "output_type": "stream",
     "text": [
      "\n"
     ]
    },
    {
     "name": "stdout",
     "output_type": "stream",
     "text": [
      "\n"
     ]
    },
    {
     "name": "stdout",
     "output_type": "stream",
     "text": [
      "\r Time_lapsed (hr:mm:ss) --> 00:00:47 Epoch: 2, Log: 1, Log_progress: 100.0% - Overall_progress: 2.0%, Length: 511.0 Label:[640.], loss: 0.751, train RMSE: 0.87"
     ]
    },
    {
     "name": "stdout",
     "output_type": "stream",
     "text": [
      "\n"
     ]
    },
    {
     "name": "stdout",
     "output_type": "stream",
     "text": [
      "\r Validation_Time (hr:mm:ss) --> 00:00:04 ,   Avg_loss: 0.38081747   Avg_accuracy: 97.82%   Overall Progress:100.0%, completed 1 out of 1 logs"
     ]
    },
    {
     "name": "stdout",
     "output_type": "stream",
     "text": [
      "\n"
     ]
    },
    {
     "name": "stdout",
     "output_type": "stream",
     "text": [
      "\n"
     ]
    },
    {
     "name": "stdout",
     "output_type": "stream",
     "text": [
      "\r Time_lapsed (hr:mm:ss) --> 00:01:09 Epoch: 3, Log: 1, Log_progress: 100.0% - Overall_progress: 3.0%, Length: 511.0 Label:[640.], loss: 0.381, train RMSE: 0.62"
     ]
    },
    {
     "name": "stdout",
     "output_type": "stream",
     "text": [
      "\n"
     ]
    },
    {
     "name": "stdout",
     "output_type": "stream",
     "text": [
      "\r Validation_Time (hr:mm:ss) --> 00:00:04 ,   Avg_loss: 3.3448618e-05   Avg_accuracy: 99.98%   Overall Progress:100.0%, completed 1 out of 1 logs"
     ]
    },
    {
     "name": "stdout",
     "output_type": "stream",
     "text": [
      "\n"
     ]
    },
    {
     "name": "stdout",
     "output_type": "stream",
     "text": [
      "\n"
     ]
    }
   ],
   "source": [
    "# TRAINING CODE  -- or move the following cell if you just wish to test results and make plots \n",
    "save_epoch = 1\n",
    "init_vol = 0\n",
    "summed_vol_diff = 0\n",
    "volume_diff = []\n",
    "aggregated_diff = []\n",
    "lamda = 0.05\n",
    "loss_ = 0\n",
    "logs_N = 1\n",
    "start = time.time()\n",
    "aggregated = []\n",
    "MSE_log = []\n",
    "MAE_log = []\n",
    "MSBE_log = []\n",
    "MSE_t = []\n",
    "MAE_t = []\n",
    "MSBE_t = []\n",
    "MSE_avg = []\n",
    "MAE_avg = []\n",
    "MSBE_avg = []\n",
    "MSE_train = []\n",
    "val_step = 1\n",
    "run_name = 'random'\n",
    "performance_flag = True\n",
    "for epoch in range(Epochs):\n",
    "    loss_metric = 0\n",
    "    summed_volume = 0\n",
    "    remainder = 0\n",
    "    iterations = 0\n",
    "    fixed_size = 0\n",
    "    count = 0\n",
    "    new_log = True\n",
    "    append_flag = True\n",
    "    next_log = False\n",
    "    cnt_log = -1\n",
    "    first_run = True    \n",
    "    for (batch, (image, label, speed, lengths)) in (enumerate(sample_dataset)):\n",
    "        size = np.shape(label)[0]\n",
    "        labels = tf.reshape(label, [size, 1])\n",
    "        speeds = tf.reshape(speed, [size, 1])\n",
    "        log_length = tf.squeeze(lengths)\n",
    "        images = tf.squeeze(image)\n",
    "        batch += 1\n",
    "        step = tf.train.get_or_create_global_step()\n",
    "        if new_log:           \n",
    "            new_log = False\n",
    "            length = int(log_length[0].numpy() - fixed_size + remainder)\n",
    "            iterations = int(np.floor(length/Batch_size))\n",
    "            remainder = int(np.mod(length, Batch_size))\n",
    "            fixed_size = np.shape(speeds)[0]\n",
    "            cnt_log += 1\n",
    "\n",
    "        if count < iterations:\n",
    "\n",
    "            # Compute and Aggregate Gradients\n",
    "            volume_diff.clear()\n",
    "            with tf.GradientTape(persistent=True) as tape:\n",
    "                mass_pred = model(images)   \n",
    "                # print(np.shape(mass_pred))\n",
    "                volume = (mass_pred * speeds) * t\n",
    "                # print(volume)\n",
    "                for ixd, vol in enumerate(volume):\n",
    "                    if ixd == 0:\n",
    "                        summed_vol_diff += tf.squared_difference(volume[ixd], init_vol)\n",
    "                        volume_diff.append(tf.squared_difference(volume[ixd], init_vol))\n",
    "                    else:\n",
    "                        summed_vol_diff += tf.squared_difference(volume[ixd], volume[ixd-1])\n",
    "                        volume_diff.append(tf.squared_difference(volume[ixd], volume[ixd-1]))\n",
    "                init_vol = volume[Batch_size-1]\n",
    "                summed_volume += tf.reduce_sum(volume)\n",
    "                watched_vars = tape.watched_variables()\n",
    "            grads = tape.gradient(volume, model.trainable_variables)\n",
    "            grads_diff = tape.gradient(volume_diff, model.trainable_variables)\n",
    "            del tape\n",
    "\n",
    "            if count == 0 and append_flag:\n",
    "                for idx, grad in enumerate(grads):\n",
    "                    aggregated.append(grad)\n",
    "                    aggregated_diff.append(grads_diff[idx])\n",
    "            else:\n",
    "                for idx, grad in enumerate(grads):\n",
    "                    aggregated[idx] = grad+aggregated[idx]\n",
    "                    aggregated_diff[idx] = grads_diff[idx] + aggregated_diff[idx] \n",
    "\n",
    "            count = count + 1\n",
    "\n",
    "            # Compute loss and Apply Gradients\n",
    "            if count == iterations and remainder == 0:\n",
    "                loss = compute_loss(summed_volume, labels[0], log_length[0], operation='Subtraction')\n",
    "                loss_metric = tf.squeeze(compute_loss(summed_volume, labels[0], log_length[0], operation='L2').numpy())\n",
    "                for idx, grd in enumerate(aggregated):\n",
    "                    aggregated[idx] = (loss * 2 * grd) + (summed_vol_diff * 2 * lamda * aggregated_diff[idx] / log_length[0])\n",
    "                rmse = tf.sqrt(tf.abs(loss_metric))\n",
    "                optimizer.apply_gradients(zip(aggregated, model.trainable_variables), global_step=step)\n",
    "                var_list = model.variables\n",
    "                write_summaries(loss_metric, batch, step, var_list[0], grads[0], train=True)\n",
    "                end = time.time() - start\n",
    "                sec = int(end % 60)\n",
    "                mint = int(end/60) % 60\n",
    "                hr = int(end/3600) % 60\n",
    "                # print(volume[0])\n",
    "                print(\"\\r Time_lapsed (hr:mm:ss) --> {:02d}:{:02d}:{:02d} Epoch: {}, Log: {}, Log_progress: {:.1%} - Overall_progress: {:.1%}, Length: {} \"\n",
    "                \"Label:{}, loss: {:.3f}, train RMSE: {:.2f}\".format(hr, mint, sec, epoch+1, cnt_log+1, (cnt_log+1)/logs_N, (epoch+1)/Epochs,  \n",
    "                log_length[0].numpy(), labels[0].numpy(), loss_metric, rmse))\n",
    "\n",
    "                if first_run:\n",
    "                    first_run = False\n",
    "                    loss_ = loss_metric.numpy()\n",
    "\n",
    "                # Reset\n",
    "                aggregated.clear()\n",
    "                aggregated_diff.clear()\n",
    "                summed_vol_diff = 0\n",
    "                init_vol = 0\n",
    "                summed_volume = 0\n",
    "                count = 0\n",
    "                append_flag = True\n",
    "                fixed_size = 0\n",
    "                new_log = True\n",
    "\n",
    "        # Handle the remainder from iterations\n",
    "        else:\n",
    "            # Compute and Aggregate the remainder Gradients\n",
    "            volume_diff.clear()\n",
    "            with tf.GradientTape(persistent=True) as tape:\n",
    "                mass_pred = model(images[0:remainder])  \n",
    "                # print(np.shape(mass_pred))\n",
    "                volume = (mass_pred * speeds[0:remainder]) * t\n",
    "                for ixd, vol in enumerate(volume):\n",
    "                    if ixd == 0:\n",
    "                        summed_vol_diff += tf.squared_difference(volume[ixd], init_vol)\n",
    "                        volume_diff.append(tf.squared_difference(volume[ixd], init_vol))\n",
    "                    else:\n",
    "                        summed_vol_diff += tf.squared_difference(volume[ixd], volume[ixd-1])\n",
    "                        volume_diff.append(tf.squared_difference(volume[ixd], volume[ixd-1]))\n",
    "                init_vol = volume[remainder-1]\n",
    "                summed_volume += tf.reduce_sum(volume)\n",
    "                watched_vars = tape.watched_variables()\n",
    "            grads = tape.gradient(volume, model.trainable_variables)\n",
    "            grads_diff = tape.gradient(volume_diff, model.trainable_variables)\n",
    "            del tape\n",
    "\n",
    "            for idx, grad in enumerate(grads):\n",
    "                aggregated[idx] = grad+aggregated[idx]\n",
    "                aggregated_diff[idx] = grads_diff[idx] + aggregated_diff[idx] \n",
    "\n",
    "            # Compute loss and apply gradients for the remainder\n",
    "            loss = compute_loss(summed_volume, labels[0], log_length[0], operation='Subtraction')\n",
    "            loss_metric = tf.squeeze(compute_loss(summed_volume, labels[0], log_length[0], operation='L2').numpy())\n",
    "            for idx, grd in enumerate(aggregated):\n",
    "                aggregated[idx] = (loss * 2 * grd) + (summed_vol_diff * 2 * lamda * aggregated_diff[idx] / log_length[0])\n",
    "            rmse = tf.squeeze(tf.sqrt(tf.abs(loss_metric)))\n",
    "            optimizer.apply_gradients(zip(aggregated, model.trainable_variables), global_step=step)\n",
    "            var_list = model.trainable_variables\n",
    "            write_summaries(loss_metric, batch, step, var_list[0], grads[0], train=True)\n",
    "            end = time.time() - start\n",
    "            sec = int(end % 60)\n",
    "            mint = int(end/60) % 60\n",
    "            hr = int(end/3600) % 60\n",
    "            # print(volume[0])\n",
    "            print(\"\\r Time_lapsed (hr:mm:ss) --> {:02d}:{:02d}:{:02d} Epoch: {}, Log: {}, Log_progress: {:.1%} - Overall_progress: {:.1%}, Length: {} \"\n",
    "                  \"Label:{}, loss: {:.3f}, train RMSE: {:.2f}\".format(hr, mint, sec, epoch+1, cnt_log+1, (cnt_log+1)/logs_N, (epoch+1)/Epochs,  \n",
    "                  log_length[0].numpy(), labels[0].numpy(), loss_metric, rmse))\n",
    "\n",
    "            if first_run:\n",
    "                first_run = False\n",
    "                loss_ = loss_metric.numpy()\n",
    "\n",
    "            # Reset\n",
    "            aggregated.clear()\n",
    "            aggregated_diff.clear()\n",
    "            summed_vol_diff = 0\n",
    "            init_vol = 0\n",
    "            summed_volume = 0\n",
    "            count = 0\n",
    "            append_flag = True\n",
    "            new_log = True\n",
    "\n",
    "            # Handle gradients for the next log\n",
    "            if cnt_log != logs_N-1:\n",
    "                # Compute and Aggregate Gradients\n",
    "                volume_diff.clear()\n",
    "                with tf.GradientTape(persistent=True) as tape:\n",
    "                    mass_pred = model(images[remainder:])\n",
    "                    # print(np.shape(mass_pred))\n",
    "                    volume = (mass_pred * speeds[remainder:]) * t\n",
    "                    for ixd, vol in enumerate(volume):\n",
    "                        if ixd == 0:\n",
    "                            summed_vol_diff += tf.squared_difference(volume[ixd], init_vol)\n",
    "                            volume_diff.append(tf.squared_difference(volume[ixd], init_vol))\n",
    "                        else:\n",
    "                            summed_vol_diff += tf.squared_difference(volume[ixd], volume[ixd-1])\n",
    "                            volume_diff.append(tf.squared_difference(volume[ixd], volume[ixd-1]))\n",
    "                    init_vol = volume[Batch_size-remainder-1]\n",
    "\n",
    "                    summed_volume += tf.reduce_sum(volume)\n",
    "                    watched_vars = tape.watched_variables()\n",
    "                grads = tape.gradient(volume, model.trainable_variables)\n",
    "                grads_diff = tape.gradient(volume_diff, model.trainable_variables)\n",
    "                del tape\n",
    "\n",
    "                for idx, grad in enumerate(grads):\n",
    "                    aggregated.append(grad)\n",
    "                    aggregated_diff.append(grads_diff[idx])\n",
    "                append_flag = False\n",
    "    # Validate model every epoch to determine early stopping -- not necessary in this single log case\n",
    "    MSE_log, MAE_log, MSBE_log, accuracy_, val_step = validate_model(model, val_step, 1, sample_dataset, write_summary=True,\n",
    "                                                                     return_losses=True)\n",
    "    print('\\n')\n",
    "    MSE_t.append(MSE_log)   # contains log losses for each epoch\n",
    "    MAE_t.append(MAE_log)\n",
    "    MSBE_t.append(MSBE_log)\n",
    "    MSE_avg.append(np.mean(MSE_log))    # contains average log losses for each epoch\n",
    "    MAE_avg.append(np.mean(MAE_log))\n",
    "    MSBE_avg.append(np.mean(MSBE_log))\n",
    "    MSE_train.append(loss_metric)\n",
    "    error = 1 - np.mean(accuracy_)\n",
    "    full_data_dict= {\"MSE_t\": MSE_t, \"MAE_t\": MAE_t, \"MSBE_t\": MSBE_t, \"MSE_avg\": MSE_avg, \"MAE_avg\": MAE_avg, \"MSBE_avg\": MSBE_avg, \"MSE_train\": MSE_train}\n",
    "    pickle_out = open(MAIN_dir+\"data_files/\"+\"losses_\"+run_name+\".pickle\", \"wb\")\n",
    "    pk.dump(full_data_dict, pickle_out)\n",
    "    pickle_out.close()\n",
    "\n",
    "    # save model weights when performance flag for 94% and above\n",
    "    if performance_flag:\n",
    "        if error <= 0.06:\n",
    "            model.save_weights(loc_checkpoint_path.format(log=epoch))  \n",
    "    else:\n",
    "        if epoch >= save_epoch:\n",
    "            model.save_weights(loc_checkpoint_path.format(log=epoch))\n",
    "\n",
    "    if error <= 0.005:   # end training for 99.5% -- change this for higher or lower accuracy termination\n",
    "        break\n",
    "\n",
    "model.save_weights(checkpoint_dir + '/cp-'+run_name+'.ckpt')"
   ]
  },
  {
   "cell_type": "code",
   "execution_count": 9,
   "metadata": {
    "collapsed": false
   },
   "outputs": [
    {
     "name": "stdout",
     "output_type": "stream",
     "text": [
      "\r Validation_Time (hr:mm:ss) --> 00:00:06 ,   Avg_loss: 3.3448618e-05   Avg_accuracy: 99.98%   Overall Progress:100.0%, completed 1 out of 1 logs"
     ]
    }
   ],
   "source": [
    "# Obtain a signal \n",
    "signals = validate_model(model, 1, 1, sample_dataset, write_summary=False, return_losses=False)\n"
   ]
  },
  {
   "cell_type": "code",
   "execution_count": 10,
   "metadata": {},
   "outputs": [
    {
     "name": "stderr",
     "output_type": "stream",
     "text": [
      "\r  0%|          | 0/1 [00:00<?, ?it/s]"
     ]
    },
    {
     "name": "stderr",
     "output_type": "stream",
     "text": [
      "\r100%|██████████| 1/1 [00:00<00:00, 22.67it/s]"
     ]
    },
    {
     "name": "stderr",
     "output_type": "stream",
     "text": [
      "\n"
     ]
    }
   ],
   "source": [
    "\n",
    "# Generate predicted signal with proper information and save it\n",
    "signal = []\n",
    "signalz = []\n",
    "onehot_signals = []\n",
    "speed_signal = []\n",
    "cnt = 0\n",
    "target_name = 'sample_signal.npy'\n",
    "for sig in tqdm(signals):\n",
    "    for si in sig:\n",
    "        for s in si:\n",
    "            sm = np.float32(np.squeeze(s.numpy()))\n",
    "            signal.append(sm)\n",
    "            speed_signal.append(speeds_s[cnt])\n",
    "            onehot_signals.append(sm)\n",
    "            cnt += 1\n",
    "    signalz.append([labels_s[cnt-1], log_length_s[cnt-1], signal[:len(signal)], \n",
    "                    speed_signal[:len(speed_signal)]])\n",
    "    signal.clear()\n",
    "    speed_signal.clear()\n",
    "\n",
    "\n",
    "np.save(data_files_path+target_name, signalz)"
   ]
  },
  {
   "cell_type": "code",
   "execution_count": 11,
   "metadata": {},
   "outputs": [
    {
     "name": "stdout",
     "output_type": "stream",
     "text": [
      "Ground Truth:290.30 Prediction:290.24  Accuracy:99.98% "
     ]
    },
    {
     "name": "stdout",
     "output_type": "stream",
     "text": [
      "\n"
     ]
    },
    {
     "data": {
      "image/png": "[encoded data removed]",
      "text/plain": [
       "<Figure size 432x288 with 1 Axes>"
      ]
     },
     "metadata": {},
     "output_type": "display_data"
    }
   ],
   "source": [
    "# Visualize Predicted signal\n",
    "\n",
    "signal = signalz[0][2]\n",
    "lb2kg = 0.453592\n",
    "gt = np.squeeze(signalz[0][0]) * lb2kg\n",
    "prd = np.sum(signalz[0][2]) * lb2kg\n",
    "plt.plot(signalz[0][2], '--')\n",
    "ACC = (1 - np.abs(gt - prd) / gt)\n",
    "gt_kg = '{:.2f}'.format(gt)\n",
    "Prd_kg = '{:.2f}'.format(prd)\n",
    "ACC1 = np.float('{:.4f}'.format(ACC))\n",
    "print('Ground Truth:{0:} Prediction:{1:}  Accuracy:{2:.2%} '.format(gt_kg, Prd_kg, ACC1))\n",
    "plt.text(-10, 6.58, 'Ground Truth:' + str(gt_kg) + 'Kgs' +\n",
    "         '\\nDNN-Based Prediction:' + str(Prd_kg) + 'Kgs' +\n",
    "         '\\nAccuracy:' + str(ACC1*100) + '%' ,\n",
    "         {'color': 'k', 'fontsize': 9, 'bbox': dict(boxstyle=\"square\", fc=\"w\", ec=\"k\", pad=0.5, alpha=0.3)})\n",
    "plt.show()\n",
    "\n",
    "\n"
   ]
  },
  {
   "cell_type": "code",
   "execution_count": null,
   "metadata": {},
   "outputs": [],
   "source": []
  }
 ],
 "metadata": {
  "kernelspec": {
   "display_name": "Python 2",
   "language": "python",
   "name": "python2"
  },
  "language_info": {
   "codemirror_mode": {
    "name": "ipython",
    "version": 2
   },
   "file_extension": ".py",
   "mimetype": "text/x-python",
   "name": "python",
   "nbconvert_exporter": "python",
   "pygments_lexer": "ipython2",
   "version": "2.7.6"
  }
 },
 "nbformat": 4,
 "nbformat_minor": 0
}
